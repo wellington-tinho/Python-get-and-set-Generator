{
 "cells": [
  {
   "cell_type": "code",
   "execution_count": 49,
   "metadata": {},
   "outputs": [],
   "source": [
    "## estrutura base dos getters e setters\n",
    "def get_set(name):\n",
    "    getter=f\"\"\"\n",
    "    @property\n",
    "    def get_{name}(self):\n",
    "        return self.__{name}\n",
    "    \"\"\"\n",
    "\n",
    "    setter=f\"\"\"\n",
    "    @{name}.setter\n",
    "    def set_{name}(self,value):\n",
    "        self.__{name}=value\n",
    "    \"\"\"\n",
    "    return getter+setter\n"
   ]
  },
  {
   "cell_type": "code",
   "execution_count": 42,
   "metadata": {},
   "outputs": [
    {
     "name": "stdout",
     "output_type": "stream",
     "text": [
      "\n",
      "    @property\n",
      "    def get_idade(self):\n",
      "        return self.__idade\n",
      "    \n",
      "    @idade.setter\n",
      "    def set_idade(self,value):\n",
      "        self.__idade=value\n",
      "    \n"
     ]
    }
   ],
   "source": [
    "print(get_set('idade'))"
   ]
  },
  {
   "cell_type": "code",
   "execution_count": 36,
   "metadata": {},
   "outputs": [],
   "source": [
    "# estrutura de entrada\n",
    "a=\"\"\"\n",
    "class Alguma_coisa:\n",
    "    def __init__(self,palavra1,palavra2,palavra3):\n",
    "\"\"\"\n"
   ]
  },
  {
   "cell_type": "code",
   "execution_count": 46,
   "metadata": {},
   "outputs": [
    {
     "data": {
      "text/plain": [
       "['palavra1', 'palavra2', 'palavra3']"
      ]
     },
     "execution_count": 46,
     "metadata": {},
     "output_type": "execute_result"
    }
   ],
   "source": [
    "# unidade de tratamento\n",
    "inicio = a.find('self')+5\n",
    "fim=a.find('):\\n')\n",
    "lista =a[inicio:fim].split(',')\n",
    "lista\n",
    "## variaveis do init recolhidas"
   ]
  },
  {
   "cell_type": "code",
   "execution_count": 53,
   "metadata": {},
   "outputs": [
    {
     "name": "stdout",
     "output_type": "stream",
     "text": [
      "\n",
      "    @property\n",
      "    def get_palavra1(self):\n",
      "        return self.__palavra1\n",
      "    \n",
      "    @palavra1.setter\n",
      "    def set_palavra1(self,value):\n",
      "        self.__palavra1=value\n",
      "    \n",
      "\n",
      "    @property\n",
      "    def get_palavra2(self):\n",
      "        return self.__palavra2\n",
      "    \n",
      "    @palavra2.setter\n",
      "    def set_palavra2(self,value):\n",
      "        self.__palavra2=value\n",
      "    \n",
      "\n",
      "    @property\n",
      "    def get_palavra3(self):\n",
      "        return self.__palavra3\n",
      "    \n",
      "    @palavra3.setter\n",
      "    def set_palavra3(self,value):\n",
      "        self.__palavra3=value\n",
      "    \n",
      "\n"
     ]
    }
   ],
   "source": [
    "aux=''\n",
    "for i in lista:\n",
    "    print(get_set(i))\n",
    "print(aux)"
   ]
  }
 ],
 "metadata": {
  "kernelspec": {
   "display_name": "Python 3",
   "language": "python",
   "name": "python3"
  },
  "language_info": {
   "codemirror_mode": {
    "name": "ipython",
    "version": 3
   },
   "file_extension": ".py",
   "mimetype": "text/x-python",
   "name": "python",
   "nbconvert_exporter": "python",
   "pygments_lexer": "ipython3",
   "version": "3.7.3"
  }
 },
 "nbformat": 4,
 "nbformat_minor": 2
}
