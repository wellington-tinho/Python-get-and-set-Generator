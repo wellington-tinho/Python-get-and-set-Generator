{
 "cells": [
  {
   "cell_type": "markdown",
   "metadata": {},
   "source": [
    "### Exemplo de entrada de uma classe qualquer, com atributos 'palavra1, palavra2 e palavra3'"
   ]
  },
  {
   "cell_type": "code",
   "execution_count": 32,
   "metadata": {},
   "outputs": [],
   "source": [
    "# estrutura de entrada\n",
    "a=\"\"\"\n",
    "class Alguma_coisa:\n",
    "    def __init__(self,palavra1,palavra2,palavra3):\n",
    "\"\"\"\n"
   ]
  },
  {
   "cell_type": "markdown",
   "metadata": {},
   "source": [
    "### Script para pegar somente os atributos do init  "
   ]
  },
  {
   "cell_type": "code",
   "execution_count": 33,
   "metadata": {},
   "outputs": [
    {
     "data": {
      "text/plain": [
       "['palavra1', 'palavra2', 'palavra3']"
      ]
     },
     "execution_count": 33,
     "metadata": {},
     "output_type": "execute_result"
    }
   ],
   "source": [
    "# unidade de tratamento\n",
    "inicio = a.find('self')+5\n",
    "fim=a.find('):\\n')\n",
    "lista =a[inicio:fim].split(',')\n",
    "lista\n",
    "## variaveis do init recolhidas\n"
   ]
  },
  {
   "cell_type": "code",
   "execution_count": 34,
   "metadata": {},
   "outputs": [],
   "source": [
    "## estrutura base dos getters e setters\n",
    "def get_set(name):\n",
    "    getter=f\"\"\"\n",
    "    @property\n",
    "    def get_{name}(self):\n",
    "        return self.__{name}\n",
    "    \"\"\"\n",
    "\n",
    "    setter=f\"\"\"\n",
    "    @{name}.setter\n",
    "    def set_{name}(self,value):\n",
    "        self.__{name}=value\n",
    "    \"\"\"\n",
    "    return getter+setter"
   ]
  },
  {
   "cell_type": "code",
   "execution_count": 35,
   "metadata": {},
   "outputs": [],
   "source": [
    "## estrutura dos selfs\n",
    "def Selfs(name):\n",
    "    selfs=f\"\"\"    self.__{name}={name}\"\"\"\n",
    "    return selfs\n"
   ]
  },
  {
   "cell_type": "markdown",
   "metadata": {},
   "source": [
    "### saida do algoritmo"
   ]
  },
  {
   "cell_type": "code",
   "execution_count": 36,
   "metadata": {},
   "outputs": [
    {
     "name": "stdout",
     "output_type": "stream",
     "text": [
      "    self.__palavra1=palavra1\n",
      "    self.__palavra2=palavra2\n",
      "    self.__palavra3=palavra3\n",
      "\n",
      "    @property\n",
      "    def get_palavra1(self):\n",
      "        return self.__palavra1\n",
      "    \n",
      "    @palavra1.setter\n",
      "    def set_palavra1(self,value):\n",
      "        self.__palavra1=value\n",
      "    \n",
      "\n",
      "    @property\n",
      "    def get_palavra2(self):\n",
      "        return self.__palavra2\n",
      "    \n",
      "    @palavra2.setter\n",
      "    def set_palavra2(self,value):\n",
      "        self.__palavra2=value\n",
      "    \n",
      "\n",
      "    @property\n",
      "    def get_palavra3(self):\n",
      "        return self.__palavra3\n",
      "    \n",
      "    @palavra3.setter\n",
      "    def set_palavra3(self,value):\n",
      "        self.__palavra3=value\n",
      "    \n"
     ]
    }
   ],
   "source": [
    "for i in lista:\n",
    "    print(Selfs(i))\n",
    "for i in lista:\n",
    "    print(get_set(i))\n"
   ]
  }
 ],
 "metadata": {
  "kernelspec": {
   "display_name": "Python 3",
   "language": "python",
   "name": "python3"
  },
  "language_info": {
   "codemirror_mode": {
    "name": "ipython",
    "version": 3
   },
   "file_extension": ".py",
   "mimetype": "text/x-python",
   "name": "python",
   "nbconvert_exporter": "python",
   "pygments_lexer": "ipython3",
   "version": "3.7.3"
  }
 },
 "nbformat": 4,
 "nbformat_minor": 2
}
